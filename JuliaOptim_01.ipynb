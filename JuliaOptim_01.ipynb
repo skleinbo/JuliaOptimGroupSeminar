{
 "cells": [
  {
   "cell_type": "code",
   "execution_count": 1042,
   "id": "f820bd87-6e4d-40c2-bc8f-2f3985369cf8",
   "metadata": {},
   "outputs": [],
   "source": [
    "import Pkg\n",
    "Pkg.activate(\".\")"
   ]
  },
  {
   "cell_type": "code",
   "execution_count": 1043,
   "id": "71274316-be80-40c5-b91f-d22ff947eb10",
   "metadata": {},
   "outputs": [],
   "source": [
    "using Plots"
   ]
  },
  {
   "cell_type": "markdown",
   "id": "6af7ce7e-f74b-425c-af94-0a84d5d63cb2",
   "metadata": {},
   "source": [
    "# Optimization & Root finding"
   ]
  },
  {
   "cell_type": "markdown",
   "id": "71d61b2b-d2e2-4d59-bfa9-91bc389db464",
   "metadata": {},
   "source": [
    "1. Root finding: find $x$ such that $f(x)=0$\n",
    "    - Newton-Raphson (see below)\n",
    "    - more generally: gradient descend $\\subset$ linesearch \n",
    "    - Bisection: gradient free\n",
    "2. Optimization: find $\\argmin_x f(x)$\n",
    "    - Constraint or unconstraint\n",
    "    - Local or global\n",
    "        - local is \"easy\", follow the gradient\n",
    "        - global is typically hard. Function may have _many_ local minima. Finding the global one may require searching parameter space exhaustively.\n",
    "    - with or with Jacobian\n",
    "3. If $f$ is differentiable, then local optimization is equivalent to finding roots of $f'$.\n",
    "    - gradient methods require _Hessian_ (or some approximation) of $f$.\n",
    "        - Famous example: _Newton-Raphson_: $x_{k+1} = x_k - f'(x_k)/f''(x_k) $\n",
    "        - Approximate Hessian: Quasi-Newton, i.e. BFGS\n",
    "4. Vice-versa: Read the root finding problem as $\\argmin_x \\Vert f(x) \\Vert^2 $"
   ]
  },
  {
   "cell_type": "markdown",
   "id": "082300d7-7bc2-4c30-8b38-38dd66eadb18",
   "metadata": {},
   "source": [
    "# Root finding"
   ]
  },
  {
   "cell_type": "markdown",
   "id": "4ea56ffe-e6f8-4fce-b2ba-8ac329feb7f9",
   "metadata": {},
   "source": [
    "`Roots.jl`: derivative (free) and bisection methods for scalar, univariate functions"
   ]
  },
  {
   "cell_type": "code",
   "execution_count": null,
   "id": "7736eade-6b90-47ac-ace0-f38d3ed939dc",
   "metadata": {},
   "outputs": [],
   "source": [
    "import Roots"
   ]
  },
  {
   "cell_type": "code",
   "execution_count": null,
   "id": "e1106066-5c30-44af-85d3-d404f1eec3d5",
   "metadata": {},
   "outputs": [],
   "source": [
    "f(x) = exp(-x^2) - x"
   ]
  },
  {
   "cell_type": "code",
   "execution_count": null,
   "id": "da57c7db-612c-44ca-9030-44711fa1bcb8",
   "metadata": {},
   "outputs": [],
   "source": [
    "Roots.find_zero(f, 5.0)"
   ]
  },
  {
   "cell_type": "code",
   "execution_count": null,
   "id": "d3f17d83-753a-4607-b380-444af73fb3a6",
   "metadata": {
    "tags": []
   },
   "outputs": [],
   "source": [
    "Roots.find_zeros(sin, -4π, 4π) ./ π"
   ]
  },
  {
   "cell_type": "markdown",
   "id": "638f671b-0e60-46a6-bbb5-9c5a605cb3ad",
   "metadata": {},
   "source": [
    "`NLsolve`: (Quasi-)Newton, Trust-Region, Linesearch for multivariate function"
   ]
  },
  {
   "cell_type": "code",
   "execution_count": null,
   "id": "ad2b2309-88f3-4b4a-89f6-0699d1016e60",
   "metadata": {},
   "outputs": [],
   "source": [
    "import NLsolve"
   ]
  },
  {
   "cell_type": "code",
   "execution_count": null,
   "id": "60cbda09-8304-4054-a182-09020ed3ad61",
   "metadata": {},
   "outputs": [],
   "source": [
    "μ = randn(10);\n",
    "F(x) = 1 - exp(-sum(abs2, (x.-μ)) )"
   ]
  },
  {
   "cell_type": "code",
   "execution_count": null,
   "id": "88551b68-c368-4a52-807a-6eb878d94315",
   "metadata": {
    "tags": []
   },
   "outputs": [],
   "source": [
    "Fopt = NLsolve.nlsolve(F, zeros(10), iterations=10000, autoscale=false, show_trace=false, extended_trace=false)"
   ]
  },
  {
   "cell_type": "code",
   "execution_count": null,
   "id": "f8f5f3cd-c522-45f8-b4c0-9ac57e407f6b",
   "metadata": {},
   "outputs": [],
   "source": [
    "[Fopt.zero μ]"
   ]
  },
  {
   "cell_type": "markdown",
   "id": "4bf82a49-b555-48b5-b7d6-ff9d9d9c1e88",
   "metadata": {},
   "source": [
    "# Optimization"
   ]
  },
  {
   "cell_type": "markdown",
   "id": "8d5c3408-c98c-492a-b269-0b5bbddbb0bc",
   "metadata": {},
   "source": [
    "## Least square methods"
   ]
  },
  {
   "cell_type": "markdown",
   "id": "77046210-c032-42fc-bc58-5296a63bd133",
   "metadata": {},
   "source": [
    "Common task: Given data $(x,y)$, find parameters such that $\\Vert f(x;p) - y \\Vert^2_2$ is minimal.\n",
    "\n",
    "Often $f(x;p) = Xp$ is a linear problem. If noise is Gaussian, then least-squares is max-likelihood."
   ]
  },
  {
   "cell_type": "markdown",
   "id": "5132556c-6fce-4fb8-9f35-83a8a9bac1d8",
   "metadata": {},
   "source": [
    "### `GLM` - (Generalized) Linear Models\n",
    "\n",
    "Linear, logistic, probit, ... regression"
   ]
  },
  {
   "cell_type": "code",
   "execution_count": null,
   "id": "e3da920f-225d-45cb-9b1e-3e66c33cf0ec",
   "metadata": {},
   "outputs": [],
   "source": [
    "using DataFrames, GLM"
   ]
  },
  {
   "cell_type": "code",
   "execution_count": null,
   "id": "8a120f28-9c68-431c-9224-d64f8df88d4d",
   "metadata": {},
   "outputs": [],
   "source": [
    "n = 20"
   ]
  },
  {
   "cell_type": "code",
   "execution_count": null,
   "id": "6428ba68-a804-442d-a6e1-e17a78c1b7a0",
   "metadata": {},
   "outputs": [],
   "source": [
    "data = DataFrame(x1=range(0,2π,length=n), x2=range(-π,π,length=n))\n",
    "\n",
    "data.y = data.x1*1 + data.x2*2 + 0.2*randn(length(data.x1));"
   ]
  },
  {
   "cell_type": "code",
   "execution_count": null,
   "id": "66ea1d70-28a8-43eb-87e5-0338c319415a",
   "metadata": {},
   "outputs": [],
   "source": [
    "x = Array(data[:,1:2]);"
   ]
  },
  {
   "cell_type": "code",
   "execution_count": null,
   "id": "c7181654-09d0-4f4c-907e-a54abf1cb816",
   "metadata": {},
   "outputs": [],
   "source": [
    "first(data, 3)"
   ]
  },
  {
   "cell_type": "code",
   "execution_count": null,
   "id": "085db37c-2852-4a38-8668-e1ca87a37ebd",
   "metadata": {},
   "outputs": [],
   "source": [
    "lm(@formula(y ~ x1+x2+1), data)"
   ]
  },
  {
   "cell_type": "markdown",
   "id": "54739347-0967-4d78-bb6b-1eb87b49fde5",
   "metadata": {},
   "source": [
    "### `LsqFit` - Levenberg-Marquardt"
   ]
  },
  {
   "cell_type": "markdown",
   "id": "2d759d3a-6ca5-46ad-99b0-171393ab1577",
   "metadata": {},
   "source": [
    "Variant of Gauss-Newton with regularisation. Requires gradient."
   ]
  },
  {
   "cell_type": "code",
   "execution_count": null,
   "id": "7c33105b-d1ea-4ac2-86ea-2e75c7d31442",
   "metadata": {},
   "outputs": [],
   "source": [
    "using LsqFit"
   ]
  },
  {
   "cell_type": "code",
   "execution_count": null,
   "id": "09475f5b-b177-4d16-9259-ef90f4e910b4",
   "metadata": {},
   "outputs": [],
   "source": [
    "data.z = sin.(data.x1*1 + data.x2*2) .+ 0.1*randn(length(data.x1));"
   ]
  },
  {
   "cell_type": "markdown",
   "id": "63ee82a3-8d41-43ce-8232-e56c03a47467",
   "metadata": {},
   "source": [
    "Minimize $ \\sum_i (f_i(x;p)i - z_i)^2 $\n",
    "\n",
    "Trial functions $f(x;p) \\sim \\sin(x\\cdot p_1) + \\cos(x\\cdot p_2) + 1$"
   ]
  },
  {
   "cell_type": "code",
   "execution_count": null,
   "id": "a1349908-d714-4ef3-9594-63bb7b1dc62b",
   "metadata": {},
   "outputs": [],
   "source": [
    "x"
   ]
  },
  {
   "cell_type": "code",
   "execution_count": null,
   "id": "97649852-6139-4488-9813-02e02a4a2ac3",
   "metadata": {},
   "outputs": [],
   "source": [
    "f(x, p) = p[1].*sin.(p[2].*x[:,1] + p[3]*x[:,2]) .+  p[4].*cos.(p[5].*x[:,1] + p[6]*x[:,2]) .+ p[7]"
   ]
  },
  {
   "cell_type": "code",
   "execution_count": null,
   "id": "447531cb-93e3-4387-9ecc-e6fc614117d7",
   "metadata": {},
   "outputs": [],
   "source": [
    "f(x, ones(7))"
   ]
  },
  {
   "cell_type": "code",
   "execution_count": null,
   "id": "9a8be678-3e4c-4705-b80d-3e3b08b5fc9a",
   "metadata": {},
   "outputs": [],
   "source": [
    "ffit = LsqFit.curve_fit(f, x, data.z, ones(7))"
   ]
  },
  {
   "cell_type": "code",
   "execution_count": null,
   "id": "47065f54-b254-4b2a-8c20-c2528f8ab738",
   "metadata": {},
   "outputs": [],
   "source": [
    "println(\"L2 residue: \",sum(abs2, ffit.resid))"
   ]
  },
  {
   "cell_type": "code",
   "execution_count": null,
   "id": "94d26aa6-88b4-4412-af77-281a99f5f14d",
   "metadata": {},
   "outputs": [],
   "source": [
    "ffit.param"
   ]
  },
  {
   "cell_type": "markdown",
   "id": "db086da3-5ef8-4ccd-92b3-d2adbda881a6",
   "metadata": {},
   "source": [
    "### Optim"
   ]
  },
  {
   "cell_type": "code",
   "execution_count": null,
   "id": "b577353f-3258-4603-bc7e-c57de9b0ccc7",
   "metadata": {},
   "outputs": [],
   "source": [
    "using Optim"
   ]
  },
  {
   "cell_type": "code",
   "execution_count": null,
   "id": "f77ae285-8a5c-4c44-a71a-a408cadc5419",
   "metadata": {
    "tags": []
   },
   "outputs": [],
   "source": [
    "optim_res = Optim.optimize(p->sum(abs2, f(x, p).-data.z), ones(7), NewtonTrustRegion())"
   ]
  },
  {
   "cell_type": "code",
   "execution_count": null,
   "id": "3a767b75-dd78-4bb8-b55a-3e70e3769bc3",
   "metadata": {},
   "outputs": [],
   "source": [
    "[optim_res.minimizer ffit.param]"
   ]
  },
  {
   "cell_type": "code",
   "execution_count": null,
   "id": "194f960d-683c-4214-b829-eeaaf286a33c",
   "metadata": {},
   "outputs": [],
   "source": [
    "optim_res_sa = Optim.optimize(p->sum(abs2, f(x, p).-data.z), ones(7), NelderMead(intial_simplex=Optim.AffineSimplexer(1.0,7.0)), Optim.Options(iterations=10000))"
   ]
  },
  {
   "cell_type": "code",
   "execution_count": null,
   "id": "49aa7ee7-b060-4737-8503-9ca1f89391c2",
   "metadata": {},
   "outputs": [],
   "source": [
    "optim_res_sa.minimizer"
   ]
  },
  {
   "cell_type": "markdown",
   "id": "2019765a-32b3-4a1f-8171-22e9af8f1d9d",
   "metadata": {},
   "source": [
    "### BlackBoxOptim"
   ]
  },
  {
   "cell_type": "code",
   "execution_count": null,
   "id": "a4cfe62d-3754-467a-b43a-241a5af372bd",
   "metadata": {},
   "outputs": [],
   "source": [
    "import BlackBoxOptim"
   ]
  },
  {
   "cell_type": "code",
   "execution_count": null,
   "id": "83d01e23-f4b2-45d0-a5c0-823b93e76fa9",
   "metadata": {},
   "outputs": [],
   "source": [
    "BlackBoxOptim.bboptimize(p->sum(abs2, f(x, p).-data.z), SearchRange=fill((-0.1,5.0), 7), MaxSteps=1000_000, PopulationSize=200)"
   ]
  },
  {
   "cell_type": "markdown",
   "id": "291ce8f7-c801-4e89-b527-62eaf58e5452",
   "metadata": {},
   "source": [
    "### JuMP"
   ]
  },
  {
   "cell_type": "markdown",
   "id": "b181ef19-daac-41c5-96df-29edeab7c197",
   "metadata": {},
   "source": [
    "Modeling language for optimization problems.\n",
    "Supports many different solvers with a unifying syntax."
   ]
  },
  {
   "cell_type": "code",
   "execution_count": null,
   "id": "d9da5db1-8187-42a4-b51a-376fe48144ed",
   "metadata": {},
   "outputs": [],
   "source": [
    "using JuMP, Ipopt"
   ]
  },
  {
   "cell_type": "code",
   "execution_count": null,
   "id": "e2b91113-c19f-484f-bee1-cf4ab04061ae",
   "metadata": {},
   "outputs": [],
   "source": [
    "jump_model = Model(Ipopt.Optimizer)"
   ]
  },
  {
   "cell_type": "code",
   "execution_count": null,
   "id": "cb650a37-65b8-42ea-be84-7e862de6997a",
   "metadata": {},
   "outputs": [],
   "source": [
    "@variable(jump_model, p[1:7], start=1.0)"
   ]
  },
  {
   "cell_type": "code",
   "execution_count": null,
   "id": "bfa738c5-60fb-4da0-a054-e8eb1470ee76",
   "metadata": {},
   "outputs": [],
   "source": [
    "delta = @NLexpression(jump_model, delta[i=1:n], (p[1]*sin(x[i,1]*p[2]+x[i,2]*p[3]) + p[4]*cos(x[i,1]*p[5]+x[i,2]*p[6]) + p[7]) - data.z[i]);"
   ]
  },
  {
   "cell_type": "code",
   "execution_count": null,
   "id": "8a9e5a71-122a-4f23-b49e-bb68ad4e0a22",
   "metadata": {},
   "outputs": [],
   "source": [
    "@NLobjective(jump_model, Min, sum(delta[i]^2 for i=1:n))"
   ]
  },
  {
   "cell_type": "code",
   "execution_count": null,
   "id": "f35f4181-b6f8-4bc2-bb26-85b06b6f3718",
   "metadata": {},
   "outputs": [],
   "source": [
    "@constraint(jump_model, p[4]==0)"
   ]
  },
  {
   "cell_type": "code",
   "execution_count": null,
   "id": "def3d302-42af-496b-a920-7aa984865e17",
   "metadata": {
    "tags": []
   },
   "outputs": [],
   "source": [
    "print(jump_model)"
   ]
  },
  {
   "cell_type": "code",
   "execution_count": null,
   "id": "260f4a5c-cbd4-40ad-89fa-4ea6809052eb",
   "metadata": {},
   "outputs": [],
   "source": [
    "JuMP.optimize!(jump_model)"
   ]
  },
  {
   "cell_type": "code",
   "execution_count": null,
   "id": "a9bf1697-1c06-41eb-a896-75b393838bf3",
   "metadata": {},
   "outputs": [],
   "source": [
    "[value.(p) ffit.param]"
   ]
  },
  {
   "cell_type": "markdown",
   "id": "7e0a0d08-c7cb-4629-b669-d79673447858",
   "metadata": {},
   "source": [
    "#### Ising"
   ]
  },
  {
   "cell_type": "markdown",
   "id": "533faa7d-2ca1-4a86-9bc3-48bc51a3ca8a",
   "metadata": {},
   "source": [
    "Find groundstate of random coupling Ising model using M(ixed)I(nteger)N(on)L(inear)P(rogramming) (_MINLP_)"
   ]
  },
  {
   "cell_type": "code",
   "execution_count": null,
   "id": "2493b2c0-fc1c-4539-aaec-ac981a1b7ea8",
   "metadata": {
    "tags": []
   },
   "outputs": [],
   "source": [
    "using Juniper"
   ]
  },
  {
   "cell_type": "code",
   "execution_count": null,
   "id": "bd1b0139-d9ee-42cc-bd32-cdbafa314bed",
   "metadata": {},
   "outputs": [],
   "source": [
    "optimizer = Juniper.Optimizer\n",
    "nl_solver = optimizer_with_attributes(Ipopt.Optimizer, \"print_level\"=>0)\n",
    "\n",
    "ising = Model(optimizer_with_attributes(optimizer, \"nl_solver\"=>nl_solver))"
   ]
  },
  {
   "cell_type": "code",
   "execution_count": null,
   "id": "2311f4d9-2e46-4338-9e52-45de57c37de2",
   "metadata": {},
   "outputs": [],
   "source": [
    "N = 16"
   ]
  },
  {
   "cell_type": "code",
   "execution_count": null,
   "id": "1794cd72-64f1-4996-9ea5-53ec978ae007",
   "metadata": {
    "tags": []
   },
   "outputs": [],
   "source": [
    "@variable(ising, s[1:N], Bin);"
   ]
  },
  {
   "cell_type": "code",
   "execution_count": null,
   "id": "2a435f1a-3826-46dd-b570-95364a00fd69",
   "metadata": {},
   "outputs": [],
   "source": [
    "J = randn(N,N);\n",
    "J[ abs.(J) .< 2*0.67 ] .= 0;\n",
    "A = map(J) do j\n",
    "    if j==0\n",
    "        0\n",
    "    else\n",
    "        1\n",
    "    end\n",
    "end"
   ]
  },
  {
   "cell_type": "code",
   "execution_count": null,
   "id": "1f4666cf-8494-427e-9546-d85ecba338e5",
   "metadata": {},
   "outputs": [],
   "source": [
    "count(x->x==0, J)/N^2"
   ]
  },
  {
   "cell_type": "code",
   "execution_count": null,
   "id": "ca0e33e9-f010-4d0a-8c6f-f9a6ae2392cf",
   "metadata": {},
   "outputs": [],
   "source": [
    "@NLobjective(ising, Min, \n",
    "    sum( -J[i,j]*(2*s[i]-1)*(2*s[j]-1) for i=1:N, j=1:N)\n",
    ");"
   ]
  },
  {
   "cell_type": "code",
   "execution_count": null,
   "id": "ee49d769-656b-4efe-819f-03fd936a7dc5",
   "metadata": {},
   "outputs": [],
   "source": [
    "JuMP.optimize!(ising)"
   ]
  },
  {
   "cell_type": "code",
   "execution_count": null,
   "id": "34d74e25-a0d5-441f-adf1-8380889a683a",
   "metadata": {},
   "outputs": [],
   "source": [
    "function int2bin(x::Int; pad::Int=0)\n",
    "    if x==0\n",
    "        return zeros(Int, max(1, pad))\n",
    "    end\n",
    "    exponent = floor(Int, log2(x))+1\n",
    "    m = max(exponent, pad)\n",
    "    b = zeros(Int, m)\n",
    "    for i=1+(m-exponent):exponent+(m-exponent)\n",
    "        e = exponent-i+(m-exponent)\n",
    "        b[i] = x÷(2^e)\n",
    "        x -= b[i]*2^e\n",
    "    end\n",
    "    b\n",
    "end"
   ]
  },
  {
   "cell_type": "code",
   "execution_count": null,
   "id": "9b4775c9-2716-4843-8719-9c4552609a2e",
   "metadata": {},
   "outputs": [],
   "source": [
    "H(s) = sum( -J[i,j]*(2*s[i]-1)*(2*s[j]-1) for i=1:N, j=1:N)\n",
    "\n",
    "best = zeros(16)\n",
    "bestH = H(best)\n",
    "for i = 0:2^N-1\n",
    "    local s = int2bin(i, pad=16)\n",
    "    newH = H(s)\n",
    "    if newH < bestH\n",
    "        bestH = newH\n",
    "        best = s\n",
    "    end\n",
    "end"
   ]
  },
  {
   "cell_type": "code",
   "execution_count": null,
   "id": "14f553a2-8679-493b-abc8-8ba29dc3d929",
   "metadata": {},
   "outputs": [],
   "source": [
    "H(value.(s)), bestH"
   ]
  },
  {
   "cell_type": "code",
   "execution_count": null,
   "id": "5e94be65-112f-48be-8e3e-2394f07b68c7",
   "metadata": {},
   "outputs": [],
   "source": [
    "[best value.(s)]"
   ]
  },
  {
   "cell_type": "markdown",
   "id": "625581a3-9318-4b54-83d9-f03c16a7036f",
   "metadata": {},
   "source": [
    "# SciML"
   ]
  },
  {
   "cell_type": "markdown",
   "id": "d54704ca-7c83-4198-8912-9a6e10eaadcf",
   "metadata": {},
   "source": [
    "Grown out of `DifferentialEquations.jl`, SciML bundles tools for\n",
    "\n",
    "* solving differential equations (ODE, SDE, PDE, DDE, ...) `DifferentialEquations.jl`\n",
    "* reaction networks `Catalyst`\n",
    "* sensitivity analysis `DiffEqSensitivity`\n",
    "* parameter optimization and \"Neural DE\" `DiffEqFlux`, `GalacticOptim`\n",
    "* modeling language `ModelingToolkit`\n",
    "* (...)\n",
    "\n",
    "under one roof."
   ]
  },
  {
   "cell_type": "markdown",
   "id": "9a822235-d715-4e54-9b03-65ad8b21e69f",
   "metadata": {
    "tags": []
   },
   "source": [
    "## An ODE"
   ]
  },
  {
   "cell_type": "code",
   "execution_count": null,
   "id": "678ffebc-776f-4121-be56-0c97f0863bb1",
   "metadata": {},
   "outputs": [],
   "source": [
    "using OrdinaryDiffEq"
   ]
  },
  {
   "cell_type": "markdown",
   "id": "a833af56-bd6b-4182-8692-ac658a31900b",
   "metadata": {},
   "source": [
    "$$ \\dot{u} = f(u,t) $$"
   ]
  },
  {
   "cell_type": "code",
   "execution_count": null,
   "id": "720c1d50-3221-46d8-aecf-b776aa59c319",
   "metadata": {},
   "outputs": [],
   "source": [
    "function anharm!(du, u, param, t)\n",
    "    x,p = u\n",
    "    m,a,b = param # V(x) = ax^4 + bx^2\n",
    "    du[1] = p/m\n",
    "    du[2] = -4a*x^3 - 2b*x\n",
    "end"
   ]
  },
  {
   "cell_type": "code",
   "execution_count": null,
   "id": "204c9799-b878-4a4c-9b07-9fbc999372eb",
   "metadata": {},
   "outputs": [],
   "source": [
    "V(x,p) = p[1]*x^4 + p[2]*x^2"
   ]
  },
  {
   "cell_type": "code",
   "execution_count": null,
   "id": "85e96492-a566-4950-8538-55ef9a221957",
   "metadata": {},
   "outputs": [],
   "source": [
    "x0 = 0.9"
   ]
  },
  {
   "cell_type": "code",
   "execution_count": null,
   "id": "cce3cbdf-5e35-4a7c-9944-49e4fe4b65d3",
   "metadata": {
    "tags": []
   },
   "outputs": [],
   "source": [
    "plot(range(-1,1,length=50), x->V(x, [1,-0.7]))\n",
    "scatter!([x0], x->V(x, [1,-0.7]))"
   ]
  },
  {
   "cell_type": "code",
   "execution_count": null,
   "id": "8969d0a5-e717-4668-9a2e-66f339b23c4d",
   "metadata": {},
   "outputs": [],
   "source": [
    "anharm_prob = ODEProblem(anharm!, [x0,0.0], (0.0,10.0))"
   ]
  },
  {
   "cell_type": "code",
   "execution_count": null,
   "id": "6fdd07b9-ed94-4900-b44f-2318b9348616",
   "metadata": {
    "tags": []
   },
   "outputs": [],
   "source": [
    "anharm_sol = OrdinaryDiffEq.solve(anharm_prob, Tsit5(); p=[1.0,1.0,-0.7]);#[ [1.0]; popt]"
   ]
  },
  {
   "cell_type": "code",
   "execution_count": null,
   "id": "42106be8-3920-46aa-be9f-6bf7c7c2f43b",
   "metadata": {},
   "outputs": [],
   "source": [
    "anharm_sol(1.0)"
   ]
  },
  {
   "cell_type": "code",
   "execution_count": null,
   "id": "b418cd1d-1294-4f46-843e-e47cc3ad68a3",
   "metadata": {},
   "outputs": [],
   "source": [
    "plot(anharm_sol)\n",
    "anharm_plot = scatter!(anharm_sol.t, getindex.(anharm_sol.u, 1), lab=\"\")\n",
    "#vline!([find_period(pdefault)], lab=\"\")"
   ]
  },
  {
   "cell_type": "code",
   "execution_count": null,
   "id": "1bb38351-ff0e-425b-a86a-b51601cf7e9c",
   "metadata": {},
   "outputs": [],
   "source": [
    "import FFTW"
   ]
  },
  {
   "cell_type": "code",
   "execution_count": null,
   "id": "2a241fe1-798c-42a3-9277-a4f4c2ac8a5a",
   "metadata": {},
   "outputs": [],
   "source": [
    "fourier = FFTW.fft(getindex.(anharm_sol.(0:0.1:8),1))\n",
    "fourier[ abs.(fourier) .< maximum(abs.(fourier)) ] .= 0+0im;\n",
    "ifourier = real.(FFTW.ifft(fourier));"
   ]
  },
  {
   "cell_type": "code",
   "execution_count": null,
   "id": "627f165a-88df-4343-9197-d239d7d1eed2",
   "metadata": {},
   "outputs": [],
   "source": [
    "unique(fourier)"
   ]
  },
  {
   "cell_type": "code",
   "execution_count": null,
   "id": "43946079-14e6-4d59-a2dc-e524d3a2f053",
   "metadata": {},
   "outputs": [],
   "source": [
    "plot!(0:0.1:8, ifourier)"
   ]
  },
  {
   "cell_type": "markdown",
   "id": "3f7f69a3-391c-482a-b3c2-bec4679adeea",
   "metadata": {},
   "source": [
    "To find the period of oscillation, we integrate the system until the momentum reverses, i.e. $p(t_f) = 0$.\n",
    "\n",
    "We use a `ContinuousCallback(cond, affect!)`. It applies when `cond==0` and is triggered when `cond` crosses from neg. to pos. or vice versa.\n",
    "__Then it tracks back to the exact time point where the condition hit zero.__\n",
    "\n",
    "`affect!` is a function to modify the integrator. Here it terminates integration. Other uses include affecting the current state, e.g. imparting momentum."
   ]
  },
  {
   "cell_type": "code",
   "execution_count": null,
   "id": "40351843-5197-4d82-a0e0-ac91f82559d7",
   "metadata": {},
   "outputs": [],
   "source": [
    "function has_reversed(u, p, integrator)\n",
    "    u[2]\n",
    "end\n",
    "\n",
    "function affect!(integrator)\n",
    "    terminate!(integrator)\n",
    "end\n",
    "\n",
    "cb = ContinuousCallback(has_reversed, affect!)"
   ]
  },
  {
   "cell_type": "code",
   "execution_count": null,
   "id": "89077ddc-2b8f-42c9-a13f-9a4cc4c02ec1",
   "metadata": {},
   "outputs": [],
   "source": [
    "function find_period(p)\n",
    "    anharm_sol = OrdinaryDiffEq.solve(anharm_prob, Tsit5(); tspan=(0.0,1000.0), p, callback=cb, sensealg=ForwardDiffSensitivity)\n",
    "    return 2*anharm_sol.t[end]\n",
    "end"
   ]
  },
  {
   "cell_type": "code",
   "execution_count": null,
   "id": "ba273ef0-81b9-4b82-8d3f-de4205890a01",
   "metadata": {},
   "outputs": [],
   "source": [
    "pdefault = [1.0, 1.0, -0.7]"
   ]
  },
  {
   "cell_type": "code",
   "execution_count": null,
   "id": "98c08730-ba72-4289-bc89-d87d3c47b55f",
   "metadata": {},
   "outputs": [],
   "source": [
    "find_period(pdefault)"
   ]
  },
  {
   "cell_type": "markdown",
   "id": "df0a202f-887b-4afb-ab88-262e7e242d91",
   "metadata": {},
   "source": [
    "__Goal:__ Tune parameters to have $T=10$\n",
    "\n",
    "$ \\mathrm{solve} \\to \\mathrm{find\\_period} \\to \\mathrm{floss} $\n",
    "\n",
    "Need gradient $\\partial_p \\mathrm{floss} $"
   ]
  },
  {
   "cell_type": "markdown",
   "id": "9a39832e-644a-47ff-beef-5c08b5d9d1e4",
   "metadata": {},
   "source": [
    "<hr/>"
   ]
  },
  {
   "cell_type": "markdown",
   "id": "d17df1e5-d6bf-40d0-8091-f4947eeded92",
   "metadata": {
    "tags": []
   },
   "source": [
    "### Excursion: Automatic Differentiation\n",
    "\n",
    "* https://mitmath.github.io/18337/lecture10/estimation_identification\n",
    "* https://juliadiff.org/ChainRulesCore.jl/dev/index.html\n",
    "* https://github.com/MikeInnes/diff-zoo\n",
    "* https://github.com/JuliaDiff/ForwardDiff.jl/\n",
    "* https://github.com/FluxML/Zygote.jl\n",
    "\n",
    "Two ways to evaluate derivatives on a computer.\n",
    "\n",
    "1. Finite differencing. \n",
    "2. Using information about primitive derivatives and the chain rule, aka AD.\n",
    "\n",
    "Consider a sequence of functions $y = y_n\\circ y_{n-1} \\circ\\cdots \\circ y_1$. By the chain rule\n",
    "$$ \\frac{\\partial y}{\\partial x} = \\frac{\\partial x}{\\partial x}\\frac{\\partial y_1}{\\partial x}\\frac{\\partial y_2}{\\partial y_1}\\cdots\\frac{\\partial y_n}{\\partial y_{n-1}}\\frac{\\partial y}{\\partial y_n}\\frac{\\partial y}{\\partial y} $$\n",
    "\n",
    "Two ways to read the chain rule. Left to right (_forward mode_), right to left (_reverse mode, adjoint, backpropagation,..._).\n",
    "\n",
    "<img src=\"img/forward_reverse.jpg\" width=600/>\n",
    "\n",
    "* __Forward mode__\n",
    "   Keep track of derivatives during the forward pass (i.e. function evaluation). Easy to realize with _dual numbers_ $a+b\\epsilon$ with $\\epsilon^2=0$. Then set $f(a+b\\epsilon) \\equiv f(a) + bf'(a)\\epsilon$ and observe that the chain rule is fulfilled.  \n",
    "   Propagates _perturbations_ forward. In mathematical parlance, pushforward of tangent vector $v$, i.e. $v=e_i$.  In terms of Jacobians $Jv = J_nJ_{n-1}\\cdots J_1 v$  \n",
    "   Disadvantage: Need $N$ passed to determine all partial derivatives for $f: \\mathbb{R}^N \\to \\mathbb{R}^M$, __but__ get derivatives of all $M$ components simultaneously.\n",
    "   \n",
    "   \n",
    "* __Reverse mode__\n",
    "   Make a forward pass and record the computational graph and intermediate values. Then traverse the graph backwards, propagating _sensitivities_ $\\bar{x} \\equiv \\frac{\\partial y}{\\partial x}$ back (hence backpropagation).\n",
    "   Mathematically this corresponds to pulling back the differential $dy = v_i\\, dy^i$. Identify components $v_i$ with vector $v$ this yields a vector-Jacobian-product $(v^tJ_n)J_{n-1}\\cdots J_1$, or transposing, $J_1^t\\cdots J^t_{n-1}J^t_nv$, hence the name adjoint methods.  \n",
    "   For a given output sensitivity, reverse mode AD computes partials for all inputs, __but__ needs $M$ passes to calculate all columns of the Jacobian.\n",
    "  \n",
    "   \n",
    "\n",
    "\n",
    "\n"
   ]
  },
  {
   "cell_type": "markdown",
   "id": "61086cb3-dcb1-49b5-a5a3-0693b053bf28",
   "metadata": {
    "tags": []
   },
   "source": [
    "#### Example:"
   ]
  },
  {
   "cell_type": "code",
   "execution_count": null,
   "id": "030e4cd8-0f7e-4156-afc4-d10537bdc710",
   "metadata": {},
   "outputs": [],
   "source": [
    "G(x) = x[1]^2 + x[2]^2"
   ]
  },
  {
   "cell_type": "code",
   "execution_count": null,
   "id": "db89fdb9-4a14-4efb-9d39-f42654507d8a",
   "metadata": {},
   "outputs": [],
   "source": [
    "G(x,y) = x^2 + y^2"
   ]
  },
  {
   "cell_type": "code",
   "execution_count": null,
   "id": "f0ed6ca7-9d60-4c16-a0f4-b8c301fdc99b",
   "metadata": {},
   "outputs": [],
   "source": [
    "ForwardDiff.gradient(G, [1.0, 2.0])"
   ]
  },
  {
   "cell_type": "code",
   "execution_count": null,
   "id": "910cc9bd-b234-4efa-8160-fa24404984d5",
   "metadata": {},
   "outputs": [],
   "source": [
    "d = ForwardDiff.Dual{typeof(G), Float64, 1}(2.0, ForwardDiff.Partials{1, Float64}((1.0,)))"
   ]
  },
  {
   "cell_type": "code",
   "execution_count": null,
   "id": "6eb72991-e9b4-434c-841b-7e456d50ad02",
   "metadata": {},
   "outputs": [],
   "source": [
    "G(1.0, d)"
   ]
  },
  {
   "cell_type": "markdown",
   "id": "81c0e217-e8ba-477c-9219-e004a200ed11",
   "metadata": {},
   "source": [
    "`ForwardDiff` overloads many functions with versions that accept and propagate dual numbers."
   ]
  },
  {
   "cell_type": "code",
   "execution_count": null,
   "id": "cb487a20-ff64-43ae-bc20-d2b8e5a417e6",
   "metadata": {
    "tags": []
   },
   "outputs": [],
   "source": [
    "methods(sin)"
   ]
  },
  {
   "cell_type": "code",
   "execution_count": null,
   "id": "c6d36860-25a5-4b1d-9b4f-5563106633f5",
   "metadata": {},
   "outputs": [],
   "source": [
    "DiffRules.diffrule(:Base, :sin, :x)"
   ]
  },
  {
   "cell_type": "markdown",
   "id": "c15e4e5c-aad4-4c4f-9c4c-ea5a09132afd",
   "metadata": {},
   "source": [
    "The same in reverse:"
   ]
  },
  {
   "cell_type": "code",
   "execution_count": null,
   "id": "67d4f4af-8549-4790-b736-004f1cb5df7a",
   "metadata": {},
   "outputs": [],
   "source": [
    "Zygote.gradient(G, 1.0, 2.0)"
   ]
  },
  {
   "cell_type": "markdown",
   "id": "94c50599-26f6-4413-9103-6efff2b78a14",
   "metadata": {},
   "source": [
    "<hr/>"
   ]
  },
  {
   "cell_type": "markdown",
   "id": "088d399b-d6a4-4d58-aed3-e2980d7a037f",
   "metadata": {
    "tags": []
   },
   "source": [
    "### Learn parameters"
   ]
  },
  {
   "cell_type": "code",
   "execution_count": null,
   "id": "594a34ee-4b23-48fa-8a77-fbac18b083a8",
   "metadata": {},
   "outputs": [],
   "source": [
    "# Fix mass==1, only tune potential\n",
    "floss(p) = forwarddiff(p) do p\n",
    "    (find_period([ [1.0]; p]) - 10.0)^2\n",
    "end"
   ]
  },
  {
   "cell_type": "code",
   "execution_count": null,
   "id": "db08281c-6d51-47e5-9966-32fa723b6c01",
   "metadata": {},
   "outputs": [],
   "source": [
    "pdefault"
   ]
  },
  {
   "cell_type": "code",
   "execution_count": null,
   "id": "b84fd0d9-6d04-479d-a202-6b9ae6b4ce0a",
   "metadata": {},
   "outputs": [],
   "source": [
    "floss(pdefault[2:end])"
   ]
  },
  {
   "cell_type": "code",
   "execution_count": null,
   "id": "699697b7-c57d-46ec-98d8-64d93ee98cde",
   "metadata": {},
   "outputs": [],
   "source": [
    "Zygote.gradient(floss, pdefault[2:end])"
   ]
  },
  {
   "cell_type": "markdown",
   "id": "a0751471-ba30-414e-be64-ea15b19350b5",
   "metadata": {},
   "source": [
    "#### Sensitivity Analysis"
   ]
  },
  {
   "cell_type": "code",
   "execution_count": null,
   "id": "b67bd4ef-f2d8-4db8-9a29-4f298d231758",
   "metadata": {},
   "outputs": [],
   "source": [
    "using DiffEqSensitivity"
   ]
  },
  {
   "cell_type": "code",
   "execution_count": null,
   "id": "f7c5e322-be40-4448-a7be-24c7916fe431",
   "metadata": {},
   "outputs": [],
   "source": [
    "sense_prob = ODELocalSensitivityProblem(anharm!, [x0, 0.0], (0.0, 10.0), pdefault)"
   ]
  },
  {
   "cell_type": "code",
   "execution_count": null,
   "id": "2101386c-485b-4e02-bc04-346cd4062ae4",
   "metadata": {
    "tags": []
   },
   "outputs": [],
   "source": [
    "sense_sol = OrdinaryDiffEq.solve(sense_prob, Tsit5())"
   ]
  },
  {
   "cell_type": "code",
   "execution_count": null,
   "id": "ac8c8abf-fa02-4339-8be4-22a4737626b5",
   "metadata": {},
   "outputs": [],
   "source": [
    "xs,dp = extract_local_sensitivities(sense_sol)"
   ]
  },
  {
   "cell_type": "code",
   "execution_count": null,
   "id": "beb3c4fc-80d0-4f4b-a37d-2a56e2d24b16",
   "metadata": {},
   "outputs": [],
   "source": [
    "xs'"
   ]
  },
  {
   "cell_type": "code",
   "execution_count": null,
   "id": "44d16af8-7c89-4091-9bad-ac5413546cad",
   "metadata": {},
   "outputs": [],
   "source": [
    "dp"
   ]
  },
  {
   "cell_type": "code",
   "execution_count": null,
   "id": "2a69ebce-826b-42a3-b13e-0190e8c08df6",
   "metadata": {},
   "outputs": [],
   "source": [
    "plot(xs', xlabel=\"time\", ls=:dash, lab=[\"x\" \"p\"])\n",
    "plot!(dp[2]', lab=[\"dx\" \"dp\"])"
   ]
  },
  {
   "cell_type": "code",
   "execution_count": null,
   "id": "2fce71b7-3536-4b85-9d9c-bed5cde05d63",
   "metadata": {},
   "outputs": [],
   "source": [
    "using DiffEqFlux"
   ]
  },
  {
   "cell_type": "code",
   "execution_count": null,
   "id": "a2373d63-f93a-44d7-be87-92b5bce17011",
   "metadata": {},
   "outputs": [],
   "source": [
    "function train_cb(p, l)\n",
    "    global iter\n",
    "    if iter%10==0\n",
    "        println(\"Loss: \", l)\n",
    "        println(\"Parameter\", p)\n",
    "    end\n",
    "    iter += 1\n",
    "    return l < 1e-8\n",
    "end"
   ]
  },
  {
   "cell_type": "code",
   "execution_count": null,
   "id": "eef7950a-7860-4f4f-b3e6-2a746d44a1a8",
   "metadata": {
    "tags": []
   },
   "outputs": [],
   "source": [
    "global iter = 0\n",
    "opt = ADAM(0.025)\n",
    "popt = DiffEqFlux.sciml_train(floss, [1.0,-0.9], opt, maxiters=5000, cb=train_cb)"
   ]
  },
  {
   "cell_type": "code",
   "execution_count": null,
   "id": "975e1bbc-ff2f-45cc-af34-52a8fadd71fa",
   "metadata": {},
   "outputs": [],
   "source": [
    "find_period([ [1.0]; popt])"
   ]
  },
  {
   "cell_type": "markdown",
   "id": "1365931b-725c-44e9-a1c7-5fdf96df25c0",
   "metadata": {},
   "source": [
    "### Learn potential from scratch"
   ]
  },
  {
   "cell_type": "code",
   "execution_count": null,
   "id": "6bdd68a8-010d-4c90-a356-ae147bb6b079",
   "metadata": {},
   "outputs": [],
   "source": [
    "Fneural = Flux.Chain(\n",
    "    Dense(1, 16, tanh),\n",
    "    Dense(16,1)\n",
    "    )"
   ]
  },
  {
   "cell_type": "code",
   "execution_count": null,
   "id": "95776ab0-6216-40eb-9e7f-c3ba7c3b0d3d",
   "metadata": {},
   "outputs": [],
   "source": [
    "Fneural([1.0])"
   ]
  },
  {
   "cell_type": "code",
   "execution_count": null,
   "id": "71cd7773-9f66-4287-a4ed-57c745be162f",
   "metadata": {},
   "outputs": [],
   "source": [
    "p, fnn = Flux.destructure(Fneural)"
   ]
  },
  {
   "cell_type": "code",
   "execution_count": null,
   "id": "b7113a63-74e0-460a-8d16-ae632bb9ae9e",
   "metadata": {},
   "outputs": [],
   "source": [
    "fnn(p)([1.0])[1]"
   ]
  },
  {
   "cell_type": "code",
   "execution_count": null,
   "id": "7816835a-7cf3-4d61-9d4d-cd037c2ccda4",
   "metadata": {},
   "outputs": [],
   "source": [
    "jacobian(fnn(p), [1.0])"
   ]
  },
  {
   "cell_type": "code",
   "execution_count": null,
   "id": "bf904c7d-2e0d-4924-8f8a-c1f1d973dbc7",
   "metadata": {},
   "outputs": [],
   "source": [
    "function dudt!(du, u, param, t)\n",
    "    x,p = u\n",
    "    du[1] = p\n",
    "    F = fnn(param)([x])[1]\n",
    "    du[2] = F\n",
    "end\n"
   ]
  },
  {
   "cell_type": "code",
   "execution_count": null,
   "id": "66a34e41-5cfe-4fcf-bd57-fb409da5f701",
   "metadata": {},
   "outputs": [],
   "source": [
    "dudt!(zeros(2), [x0, 0.0], p, 0.0)"
   ]
  },
  {
   "cell_type": "code",
   "execution_count": null,
   "id": "7de62bc0-d1af-4db2-8995-78ddfbb3d209",
   "metadata": {},
   "outputs": [],
   "source": [
    "ts = anharm_sol.t\n",
    "ys = getindex.(anharm_sol.u, 1);"
   ]
  },
  {
   "cell_type": "code",
   "execution_count": null,
   "id": "49935faf-10f0-4eae-9ac2-9f96c85e5905",
   "metadata": {},
   "outputs": [],
   "source": [
    "prob = ODEProblem(dudt!, u0, tspan)"
   ]
  },
  {
   "cell_type": "code",
   "execution_count": null,
   "id": "865344f4-42e1-4d3b-bd95-9729f8fd5f19",
   "metadata": {},
   "outputs": [],
   "source": [
    "function predict_osc(p)\n",
    "    pr = remake(prob, p=p)\n",
    "    OrdinaryDiffEq.solve(pr, Tsit5(), saveat=ts, sensealg=BacksolveAdjoint())\n",
    "end\n",
    "\n",
    "function loss_osc(p)\n",
    "    sol = predict_osc(p)\n",
    "    yhat = getindex.(sol.u, 1)\n",
    "    sum(abs2, yhat .- ys)\n",
    "end"
   ]
  },
  {
   "cell_type": "code",
   "execution_count": null,
   "id": "9a069f41-af85-4b3a-9322-679a722e6418",
   "metadata": {
    "tags": []
   },
   "outputs": [],
   "source": [
    "predict_osc(p)"
   ]
  },
  {
   "cell_type": "code",
   "execution_count": null,
   "id": "96da425f-427d-48ea-8a07-4837280cf70c",
   "metadata": {},
   "outputs": [],
   "source": [
    "loss_osc(p)"
   ]
  },
  {
   "cell_type": "code",
   "execution_count": null,
   "id": "9e9aef22-1cf4-4331-938b-26903733e0df",
   "metadata": {
    "tags": []
   },
   "outputs": [],
   "source": [
    "Flux.gradient(loss_osc, p)"
   ]
  },
  {
   "cell_type": "code",
   "execution_count": null,
   "id": "38f7b816-0de5-448b-985d-dbb1c4021fba",
   "metadata": {},
   "outputs": [],
   "source": [
    "pmin = @time DiffEqFlux.sciml_train(loss_osc, p, ADAM(0.025), maxiters=100)"
   ]
  },
  {
   "cell_type": "code",
   "execution_count": null,
   "id": "48b74de0-bca1-483c-a7ca-604ba8d27688",
   "metadata": {
    "tags": []
   },
   "outputs": [],
   "source": [
    "predy = map(range(-2, 2, length=50)) do x\n",
    "    fnn(pmin)([x])[1]\n",
    "end"
   ]
  },
  {
   "cell_type": "code",
   "execution_count": null,
   "id": "b228c9e5-ea1d-4c3d-809c-f6530a1b8145",
   "metadata": {},
   "outputs": [],
   "source": [
    "pmin.minimum"
   ]
  },
  {
   "cell_type": "code",
   "execution_count": null,
   "id": "b4bbe4cd-8af7-4212-9a3d-14cd63ad5e11",
   "metadata": {},
   "outputs": [],
   "source": [
    "plot(anharm_sol)\n",
    "plot!(predict_osc(pmin))"
   ]
  },
  {
   "cell_type": "code",
   "execution_count": null,
   "id": "e65eb9f9-91fc-46c3-aed3-c8f425353e94",
   "metadata": {
    "tags": []
   },
   "outputs": [],
   "source": [
    "plot(range(-2, 2, length=50), predy)\n",
    "plot!(range(-2, 2, length=50), x->Flux.gradient(x->V(x, pdefault), x)[1])"
   ]
  },
  {
   "cell_type": "markdown",
   "id": "19e416c0-df71-4661-a9cd-e4ac7cee60ca",
   "metadata": {
    "tags": []
   },
   "source": [
    "## A stochastic SDE"
   ]
  },
  {
   "cell_type": "code",
   "execution_count": null,
   "id": "09abe048-647a-42e6-8494-3baed4dd6642",
   "metadata": {},
   "outputs": [],
   "source": [
    "using StochasticDiffEq"
   ]
  },
  {
   "cell_type": "markdown",
   "id": "eb5a97eb-eab3-42d8-bff9-e76f4d162e28",
   "metadata": {},
   "source": [
    "$$ dX_t = f(X_t,t)dt + g(X_t,t)dW_t $$"
   ]
  },
  {
   "cell_type": "code",
   "execution_count": null,
   "id": "9cadaf6b-3e4b-43fd-bc95-150d9fd3b9dd",
   "metadata": {},
   "outputs": [],
   "source": [
    "function hooke!(du, u, p, t)\n",
    "    k = p[1]\n",
    "    x = u[1]\n",
    "    v = u[2]\n",
    "    du[1] = v\n",
    "    du[2] = -k*x\n",
    "end\n",
    "\n",
    "function add_noise!(du, u, p, t)\n",
    "    du[1] = zero(p[2])\n",
    "    du[2] = p[2]*u[1]\n",
    "end\n",
    "\n",
    "tspan = (0f0, 10f0)\n",
    "u0 = [1f0, 0f0]\n",
    "\n",
    "osc_prob = SDEProblem{true}(hooke!, add_noise!, u0, tspan)"
   ]
  },
  {
   "cell_type": "code",
   "execution_count": null,
   "id": "3582ac58-58d9-4954-a7c7-3df28a9850bb",
   "metadata": {
    "tags": []
   },
   "outputs": [],
   "source": [
    "sol = solve(osc_prob, SOSRI(), p=[2f0,1f0]);"
   ]
  },
  {
   "cell_type": "code",
   "execution_count": null,
   "id": "c5f518ae-3047-4805-9a3d-058cd0a51703",
   "metadata": {
    "tags": []
   },
   "outputs": [],
   "source": [
    "Plots.plot(sol, seriestype=[:line :line])"
   ]
  },
  {
   "cell_type": "code",
   "execution_count": null,
   "id": "173b3337-90fa-4f3a-8f5e-0040f7387b5a",
   "metadata": {},
   "outputs": [],
   "source": [
    "osc_ens_prob = EnsembleProblem(osc_prob)"
   ]
  },
  {
   "cell_type": "code",
   "execution_count": null,
   "id": "a853204e-f3c9-464f-8a5c-acdf1d2e5a16",
   "metadata": {},
   "outputs": [],
   "source": [
    "@time ens_sol = StochasticDiffEq.solve(osc_ens_prob, SOSRI(), p=[2f0,1f0], trajectories=10_000, saveat=range(tspan..., length=25));"
   ]
  },
  {
   "cell_type": "code",
   "execution_count": null,
   "id": "0c108d72-d959-4863-aec1-e281eb0fe50e",
   "metadata": {},
   "outputs": [],
   "source": [
    "truem = mean(ens_sol, dims=3)[1,:,1]\n",
    "truev = var(ens_sol, dims=3)[1,:,1];"
   ]
  },
  {
   "cell_type": "code",
   "execution_count": null,
   "id": "d2654ea9-2f00-4a50-8872-cb5be8600729",
   "metadata": {},
   "outputs": [],
   "source": [
    "gr()\n",
    "default(fmt=:png)"
   ]
  },
  {
   "cell_type": "code",
   "execution_count": null,
   "id": "1f7e4d45-d03c-4f9b-93a7-45063ffa8e12",
   "metadata": {},
   "outputs": [],
   "source": [
    "summary = EnsembleSummary(ens_sol)"
   ]
  },
  {
   "cell_type": "code",
   "execution_count": null,
   "id": "cd22c70c-6daf-44e8-8e47-da2d7f7d663c",
   "metadata": {},
   "outputs": [],
   "source": [
    "Plots.plot(summary, vars=(0,))"
   ]
  },
  {
   "cell_type": "code",
   "execution_count": null,
   "id": "95e34944-bf7c-4637-af18-1a9afa30bff4",
   "metadata": {},
   "outputs": [],
   "source": [
    "plot(summary.t, truem, ribbon=sqrt.(truev), ribbon_alpha=0.1, lw=4)"
   ]
  },
  {
   "cell_type": "code",
   "execution_count": null,
   "id": "541acc3b-1434-4ee9-af28-76903911aa30",
   "metadata": {},
   "outputs": [],
   "source": [
    "using StatsBase"
   ]
  },
  {
   "cell_type": "code",
   "execution_count": null,
   "id": "0e88ab79-88ef-4c8e-b28a-b1620f82cd68",
   "metadata": {},
   "outputs": [],
   "source": [
    "function osc_predict(p; n=100)\n",
    "    prob = remake(osc_prob, u0=p[1:2], p=p[3:end])\n",
    "    ens_prob = EnsembleProblem(prob)\n",
    "    StochasticDiffEq.solve(ens_prob, SOSRI(), trajectories=n, saveat=range(tspan..., length=25), sensealg=ForwardDiffSensitivity)\n",
    "end"
   ]
  },
  {
   "cell_type": "code",
   "execution_count": null,
   "id": "48b9ed21-7063-41e8-96ce-1d107c6d88da",
   "metadata": {},
   "outputs": [],
   "source": [
    "function osc_loss(p; kwargs...)\n",
    "    osc_predict(p; kwargs...)\n",
    "    m = mean(sol, dims=3)[1,:,1]\n",
    "    v = var(sol, dims=3)[1,:,1]\n",
    "    sum(abs2, truem .- m) + 0.1*sum(abs2, truev .- v), sol\n",
    "end"
   ]
  },
  {
   "cell_type": "code",
   "execution_count": null,
   "id": "28162530-ef8a-41f4-92ae-75a9edd5f4cf",
   "metadata": {},
   "outputs": [],
   "source": [
    "p=[u0; [2f0,1f0]]\n",
    "remake(osc_prob, u0=p[1:2], p=p[3:end])"
   ]
  },
  {
   "cell_type": "code",
   "execution_count": null,
   "id": "27b803ed-2a55-4258-9acd-dc1ae21424da",
   "metadata": {},
   "outputs": [],
   "source": [
    "using ForwardDiff\n",
    "\n",
    "using DiffEqSensitivity"
   ]
  },
  {
   "cell_type": "code",
   "execution_count": null,
   "id": "5661851d-63cb-4245-8162-e135dafbd417",
   "metadata": {},
   "outputs": [],
   "source": [
    "ForwardDiff.gradient(p->osc_loss(p)[1], p)"
   ]
  },
  {
   "cell_type": "code",
   "execution_count": null,
   "id": "e1640e8a-acc6-4c42-b891-588442744169",
   "metadata": {},
   "outputs": [],
   "source": [
    "ForwardDiff.jacobian(osc_predict, p)"
   ]
  },
  {
   "cell_type": "code",
   "execution_count": null,
   "id": "8e2b935d-3f49-4679-9c4c-1c834788f87c",
   "metadata": {},
   "outputs": [],
   "source": [
    "Plots.plot!(t->cos(sqrt(2)*t))"
   ]
  },
  {
   "cell_type": "markdown",
   "id": "ca88f6de-51b1-4018-88c0-1e3023fc8548",
   "metadata": {},
   "source": [
    "## Reaction Networks"
   ]
  },
  {
   "cell_type": "code",
   "execution_count": null,
   "id": "3868ef49-b515-4f60-9601-0b7d6fa0c97a",
   "metadata": {},
   "outputs": [],
   "source": [
    "using Catalyst"
   ]
  },
  {
   "cell_type": "code",
   "execution_count": null,
   "id": "8d61d31d-971f-4221-bae2-c8c1bd8eaa0c",
   "metadata": {},
   "outputs": [],
   "source": [
    "rn = @reaction_network begin\n",
    "    α, S + I --> 2I\n",
    "    β, I --> R\n",
    "end α β"
   ]
  },
  {
   "cell_type": "code",
   "execution_count": null,
   "id": "77e4b3bf-6092-452d-b8ed-c0daef5e4f39",
   "metadata": {},
   "outputs": [],
   "source": [
    "u0 = \n",
    "sprob = SDEProblem(rn, u0, tspan, p)\n",
    "ssol  = solve(sprob, EM(), dt=.01)"
   ]
  }
 ],
 "metadata": {
  "kernelspec": {
   "display_name": "Julia 1.6.1",
   "language": "julia",
   "name": "julia-1.6"
  },
  "language_info": {
   "file_extension": ".jl",
   "mimetype": "application/julia",
   "name": "julia",
   "version": "1.6.1"
  },
  "toc-autonumbering": true,
  "toc-showcode": false,
  "toc-showmarkdowntxt": false,
  "toc-showtags": false
 },
 "nbformat": 4,
 "nbformat_minor": 5
}
